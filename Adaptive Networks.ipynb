{
 "cells": [
  {
   "cell_type": "code",
   "execution_count": 14,
   "metadata": {},
   "outputs": [],
   "source": [
    "from IPython.display import display, Math, Latex\n"
   ]
  },
  {
   "cell_type": "heading",
   "metadata": {},
   "level": 1,
   "source": [
    "\n",
    "AdaNet: Adaptive Structural Learning of Neural Networks, Cortes et al., ICML 2017"
   ]
  },
  {
   "cell_type": "markdown",
   "metadata": {
    "collapsed": true
   },
   "source": [
    "Defines an algorithm that aims to directly minimize the DeepBoost generalization bound from Deep Boosting [Cortes et al., ICML 2014] when applied to neural networks. This algorithm, called AdaNet, adaptively grows a neural network as an ensemble ofsubnetworks that minimizes the AdaNet objective (a.k.a. AdaNet loss):\n",
    "\n",
    "$$F(w) = \\frac{1}{m} \\sum_{i=1}^{m} \\Phi \\left(\\sum_{j=1}^{N}w_jh_j(x_i), y_i \\right) + \\sum_{j=1}^{N} \\left(\\lambda r(h_j) + \\beta \\right) |w_j| $$\n",
    "\n",
    "where $w$ is the set of mixture weights, one per subnetwork $h$, $\\Phi$ is a surrogate loss function such as logistic loss or MSE, $r$ is a function for measuring a subnetwork's complexity, and $\\lambda$ and $\\beta$ are hyperparameters.\n"
   ]
  },
  {
   "cell_type": "heading",
   "metadata": {},
   "level": 1,
   "source": [
    "How AdaNet uses the objective"
   ]
  },
  {
   "cell_type": "markdown",
   "metadata": {},
   "source": [
    "This objective function serves two purposes:\n",
    "To learn to scale/transform the outputs of each subnetwork $h$ as part of the ensemble.\n",
    "To select the best candidate subnetwork $h$ at each AdaNet iteration to include in the ensemble.\n",
    "Effectively, when learning mixture weights $w$ AdaNet solves a convex combination of the outputs of the frozen subnetworks $h$. For $$\\lambda \\gt 0,$$ AdaNet penalizes more complex subnetworks with greater L1 regularization on their mixture weight, and will be less \n",
    "likely to select more complex subnetworks to add to the ensemble at each iteration.\n"
   ]
  },
  {
   "cell_type": "markdown",
   "metadata": {},
   "source": [
    "We will solve a regression task known as the Boston Housing dataset to predict the price of suburban houses in Boston. There are $13$ numerical features, the labels are in thousands of dollars, and 506 examples.\n",
    "\n"
   ]
  },
  {
   "cell_type": "markdown",
   "metadata": {},
   "source": [
    "In this project written for the Insight Artificial Intelligence project, we study the impact in the loss, produced by the combined weighting of the network ensemble using uniform weights, or either using convex optimization to calculate the optimum weights, and simulateneously control this effect with the regularizing parameter $\\lambda$. "
   ]
  },
  {
   "cell_type": "code",
   "execution_count": 15,
   "metadata": {
    "collapsed": false
   },
   "outputs": [],
   "source": [
    "%%capture\n",
    "import matplotlib.pyplot as plt\n",
    "import tensorflow as tf\n",
    "import trainAndEvaluate\n",
    "import numpy as np\n",
    "\n",
    "# @title AdaNet parameters\n",
    "LEARNING_RATE = 0.001       # @param {type:\"number\"}\n",
    "TRAIN_STEPS = 100000        # @param {type:\"integer\"} 100000\n",
    "BATCH_SIZE = 32             # @param {type:\"integer\"}\n",
    "BOOSTING_ITERATIONS = 5     # @param {type:\"integer\"} Boosting iterations ==> Network depth.\n",
    "\n",
    "# Testing the AdaNet architecture for the Boston Housing Dataset.\n",
    "# 1. Load data\n",
    "(x_train, y_train), (x_test, y_test) = (\n",
    "    tf.keras.datasets.boston_housing.load_data())\n",
    "\n",
    "# 2. Training and evaluating the model.\n",
    "\n",
    "# 2. a. -Train with no optimization of the mixture weights.\n",
    "#       -Lambda=0;\n",
    "#       -Increasing size of the different networks.\n",
    "#       -Constant learning rate, and constant batch size.\n",
    "\n",
    "# Experiments\n",
    "\n",
    "\n",
    "def training_results(x_tr, y_tr, x_tst, y_tst, a_lambda, learn_mixtures):\n",
    "    results, _ = trainAndEvaluate.train_and_evaluate(x_tr, y_tr, x_tst, y_tst,\n",
    "                                                     LEARNING_RATE,\n",
    "                                                     TRAIN_STEPS,\n",
    "                                                     BATCH_SIZE,\n",
    "                                                     learn_mixtures,\n",
    "                                                     a_lambda,\n",
    "                                                     boosting_iterations=BOOSTING_ITERATIONS)\n",
    "    print(\"Architecture:\", trainAndEvaluate.ensemble_architecture(results))\n",
    "    print(results[\"average_loss\"])\n",
    "    print(\"Uniform average loss:\", results[\"average_loss/adanet/uniform_average_ensemble\"])\n",
    "    print(\"Adanet lambda\", a_lambda)\n",
    "    return [results[\"average_loss\"], results[\"average_loss/adanet/uniform_average_ensemble\"]]\n",
    "\n",
    "\n",
    "# Training without learning mixtures of deep networks, learn_mixtures = false\n",
    "# lambda = [0.1, 0.15, 0.2, 0.25 ... 1]\n",
    "\n",
    "loss_results = []\n",
    "uniform_loss_results = []\n",
    "adanet_lambda = np.linspace(0, 1, 11)\n",
    "learnMixtures = True\n",
    "\n",
    "# Training the ensemble, and calculating losses\n",
    "for l in adanet_lambda:\n",
    "    loss = training_results(x_train, y_train, x_test, y_test, l, learnMixtures)[0]\n",
    "    uniform_loss = training_results(x_train, y_train, x_test, y_test, l, learnMixtures)[1]\n",
    "    loss = float(\"{0:.2f}\".format(loss))\n",
    "    uniform_loss_results.append(uniform_loss)\n",
    "    loss_results.append(loss)\n",
    "\n",
    "\n",
    "print(adanet_lambda)\n",
    "print(loss_results)\n",
    "print(uniform_loss_results)"
   ]
  },
  {
   "cell_type": "code",
   "execution_count": null,
   "metadata": {},
   "outputs": [
    {
     "name": "stderr",
     "output_type": "stream",
     "text": [
      "ERROR:root:Line magic function `%matpolotlib` not found.\n"
     ]
    },
    {
     "data": {
      "image/png": "[encoded data removed]",
      "text/plain": [
       "<Figure size 432x288 with 1 Axes>"
      ]
     },
     "metadata": {},
     "output_type": "display_data"
    }
   ],
   "source": [
    "%matplotlib inline\n",
    "# Plotting results\n",
    "\n",
    "plt.ioff()\n",
    "epsilon = 1e-2\n",
    "\n",
    "fig, ax = plt.subplots()\n",
    "ax.scatter(adanet_lambda, loss_results, color=\"blue\", alpha=0.5)\n",
    "ax.scatter(adanet_lambda, uniform_loss_results, c=\"green\", alpha=0.5, )\n",
    "\n",
    "for i, txt in enumerate(loss_results):\n",
    "    ax.annotate(txt, (adanet_lambda[i], loss_results[i]))\n",
    "\n",
    "title = \"AdaNet ensemble: uniform (black) vs regularized (red)\"\n",
    "ax.plot(adanet_lambda, loss_results, color=\"red\")\n",
    "\n",
    "ax.plot(adanet_lambda, uniform_loss_results, color=\"black\")\n",
    "l_range = np.linspace(0, 1, 6)\n",
    "\n",
    "plt.title(title, color=\"b\", size=\"medium\")\n",
    "plt.xlabel(\"regularization parameter\", color=\"b\", size=\"medium\")\n",
    "plt.ylabel(\"MSE (loss)\", color=\"b\", size=\"medium\")\n",
    "plt.xticks(l_range)\n",
    "\n",
    "plt.ylim([0.045, 0.065])\n",
    "plt.draw()\n",
    "plt.show()\n"
   ]
  },
  {
   "cell_type": "code",
   "execution_count": null,
   "metadata": {},
   "outputs": [],
   "source": []
  }
 ],
 "metadata": {
  "kernelspec": {
   "display_name": "Python 2",
   "language": "python",
   "name": "python2"
  },
  "language_info": {
   "codemirror_mode": {
    "name": "ipython",
    "version": 2
   },
   "file_extension": ".py",
   "mimetype": "text/x-python",
   "name": "python",
   "nbconvert_exporter": "python",
   "pygments_lexer": "ipython2",
   "version": "2.7.6"
  }
 },
 "nbformat": 4,
 "nbformat_minor": 0
}
