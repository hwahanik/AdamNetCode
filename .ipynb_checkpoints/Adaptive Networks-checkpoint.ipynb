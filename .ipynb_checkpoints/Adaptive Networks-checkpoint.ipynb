{
 "cells": [
  {
   "cell_type": "code",
   "execution_count": 1,
   "metadata": {},
   "outputs": [
    {
     "name": "stderr",
     "output_type": "stream",
     "text": [
      "Using TensorFlow backend.\n"
     ]
    },
    {
     "name": "stdout",
     "output_type": "stream",
     "text": [
      "\u001b[1m\u001b[32mTraining shape:\u001b[0m\n",
      "  x_train.shape: (60000, 28, 28)\n",
      "  y_train.shape: (60000,)\n",
      "\u001b[1m\u001b[32m\n",
      "Testing shape:\u001b[0m\n",
      "  x_test.shape: (10000, 28, 28)\n",
      "  y_test.shape: (10000,)\n",
      "\n",
      "******************************\n",
      "\n",
      "\u001b[1m\u001b[34mLabel:\u001b[0m 9\n",
      "\u001b[1m\u001b[34mShape:\u001b[0m (28, 28)\n",
      "\n"
     ]
    },
    {
     "data": {
      "text/plain": [
       "<Figure size 640x480 with 1 Axes>"
      ]
     },
     "metadata": {},
     "output_type": "display_data"
    },
    {
     "name": "stdout",
     "output_type": "stream",
     "text": [
      "AxesImage(80,52.8;496x369.6)\n"
     ]
    }
   ],
   "source": [
    "from __future__ import absolute_import\n",
    "from __future__ import division\n",
    "from __future__ import print_function\n",
    "\n",
    "import utils\n",
    "from keras.datasets import fashion_mnist\n",
    "from keras.datasets import mnist\n",
    "from keras.datasets import cifar100\n",
    "import matplotlib.pyplot as plt\n",
    "\n",
    "plt.interactive(True)\n",
    "\n",
    "# Fashion-Mnist Classification\n",
    "(xTrain, yTrain), (xTest, yTest) = fashion_mnist.load_data()\n",
    "utils.show_shapes(xTrain, yTrain, xTest, yTest)\n",
    "print('\\n******************************\\n')\n",
    "utils.show_sample_image(xTrain, yTrain, cmap='gray')"
   ]
  },
  {
   "cell_type": "code",
   "execution_count": null,
   "metadata": {},
   "outputs": [],
   "source": []
  },
  {
   "cell_type": "code",
   "execution_count": null,
   "metadata": {},
   "outputs": [],
   "source": []
  }
 ],
 "metadata": {
  "kernelspec": {
   "display_name": "Python 3",
   "language": "python",
   "name": "python3"
  },
  "language_info": {
   "codemirror_mode": {
    "name": "ipython",
    "version": 3
   },
   "file_extension": ".py",
   "mimetype": "text/x-python",
   "name": "python",
   "nbconvert_exporter": "python",
   "pygments_lexer": "ipython3",
   "version": "3.6.0"
  }
 },
 "nbformat": 4,
 "nbformat_minor": 1
}
