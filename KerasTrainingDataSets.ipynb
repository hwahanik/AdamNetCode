{
 "cells": [
  {
   "cell_type": "markdown",
   "metadata": {
    "collapsed": true
   },
   "source": [
    "Here we display the different training datasets from Keras, that will be used to train and test the AdamNet deep\n",
    "architecture, which is based on obtaining an optimum ensemble of deep neural networks built stochastically during run-time with the purpose of minimizing loss.\n",
    "\n",
    "AdamNet optimizes the sets of networks required during training, and naturally adapts to reflect the complexity of \n",
    "the problem.  We may think of the "
   ]
  }
 ],
 "metadata": {
  "kernelspec": {
   "display_name": "Python 2",
   "language": "python",
   "name": "python2"
  },
  "language_info": {
   "codemirror_mode": {
    "name": "ipython",
    "version": 2
   },
   "file_extension": ".py",
   "mimetype": "text/x-python",
   "name": "python",
   "nbconvert_exporter": "python",
   "pygments_lexer": "ipython2",
   "version": "2.7.6"
  }
 },
 "nbformat": 4,
 "nbformat_minor": 0
}
